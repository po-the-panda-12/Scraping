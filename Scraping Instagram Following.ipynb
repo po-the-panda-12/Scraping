{
 "cells": [
  {
   "cell_type": "code",
   "execution_count": null,
   "id": "423cf6a6",
   "metadata": {},
   "outputs": [],
   "source": [
    "from selenium import webdriver\n",
    "# from selenium.webdriver.common.keys import Keys\n",
    "from selenium.webdriver.support.ui import WebDriverWait\n",
    "from selenium.webdriver.support import expected_conditions as EC\n",
    "from time import sleep\n",
    "import pandas as pd"
   ]
  },
  {
   "cell_type": "code",
   "execution_count": null,
   "id": "5c8d04e8",
   "metadata": {},
   "outputs": [],
   "source": [
    "driver = webdriver.Chrome('/Users/shambhavigoenka/Downloads/chromedriver')\n",
    "driver.get('https://instagram.com')"
   ]
  },
  {
   "cell_type": "code",
   "execution_count": null,
   "id": "1fc447d2",
   "metadata": {},
   "outputs": [],
   "source": [
    "#to do - use env file instead of direct passing\n",
    "\n",
    "login_username = \"username\"\n",
    "login_password = \"password\""
   ]
  },
  {
   "cell_type": "code",
   "execution_count": null,
   "id": "ce2605e8",
   "metadata": {},
   "outputs": [],
   "source": [
    "username = WebDriverWait(driver, 10).until(EC.element_to_be_clickable((\"css selector\", \"input[name='username']\")))\n",
    "password = WebDriverWait(driver, 10).until(EC.element_to_be_clickable((\"css selector\", \"input[name='password']\")))\n",
    "\n",
    "username.clear()\n",
    "password.clear()\n",
    "\n",
    "\n",
    "username.send_keys(login_username)\n",
    "password.send_keys(login_password)\n",
    "\n",
    "#login\n",
    "WebDriverWait(driver, 10).until(EC.element_to_be_clickable((\"css selector\", \"button[type='submit']\"))).click()\n",
    "\n",
    "#incorrect credentials\n",
    "error = driver.find_elements(\"id\", \"slfErrorAlert\")\n",
    "if (error != []):\n",
    "    print(\"[!] Login failed\")\n",
    "else:\n",
    "    element = WebDriverWait(driver, 10).until(EC.presence_of_element_located((\"tag name\", \"nav\")))\n",
    "    if(element):\n",
    "        print(\"[+] Login successful\")\n",
    "    \n"
   ]
  },
  {
   "cell_type": "code",
   "execution_count": null,
   "id": "e7252c6e",
   "metadata": {},
   "outputs": [],
   "source": [
    "#go to profile\n",
    "all_span = driver.find_elements(\"tag name\", \"span\")\n",
    "all_span[4].click()\n",
    "driver.find_elements(\"tag name\", \"a\")[5].click()\n",
    "\n",
    "\n",
    "#num of following - doesn't work without inspecting - check for hidden consent\n",
    "n_following = driver.find_elements(\"xpath\", \"//span[contains(@class,'_ac2a _ac2b')]\")[2].text.replace(',','')\n",
    "\n",
    "#click on following\n",
    "WebDriverWait(driver, 10).until(EC.element_to_be_clickable((\"partial link text\", \"following\"))).click()\n",
    "\n"
   ]
  },
  {
   "cell_type": "code",
   "execution_count": null,
   "id": "22bd9127",
   "metadata": {},
   "outputs": [],
   "source": []
  },
  {
   "cell_type": "code",
   "execution_count": null,
   "id": "d49d685b",
   "metadata": {},
   "outputs": [],
   "source": [
    "#set soft cap on scraping at 500? - TO DO - figure out scroll formula\n",
    "n_scroll = int(n_following)//2 if int(n_following) <=500 else 250\n",
    "\n",
    "fBody  = driver.find_element(\"xpath\",\"//div[@class='_aano']\")\n",
    "\n",
    "#scroll through modal\n",
    "for i in range(n_scroll):\n",
    "    driver.execute_script('arguments[0].scrollTop = arguments[0].scrollTop + arguments[0].offsetHeight;', fBody)\n",
    "    temp = WebDriverWait(driver, 3).until(EC.invisibility_of_element_located((\"xpath\", \"//*[name()='svg' and @aria-label='Loading...']\")))\n",
    "\n"
   ]
  },
  {
   "cell_type": "code",
   "execution_count": null,
   "id": "c6c39de6",
   "metadata": {},
   "outputs": [],
   "source": [
    "following = driver.find_elements(\"xpath\", \"//div[contains(@class,' _ab8y  _ab94 _ab97 _ab9f _ab9k _ab9p _abcm')]\")\n",
    "#gets verified tags that can be cleaned later\n",
    "\n",
    "\n",
    "with open('my_following.txt', 'w') as f:\n",
    "    for follow in following:\n",
    "        f.write(follow.get_attribute(\"innerText\"))\n",
    "        f.write('\\n')\n",
    "\n",
    "\n"
   ]
  },
  {
   "cell_type": "code",
   "execution_count": null,
   "id": "c098e9b6",
   "metadata": {},
   "outputs": [],
   "source": [
    "#discrepency between actual number of following and number - becuase of IG cloud updates?\n",
    "len(following)"
   ]
  },
  {
   "cell_type": "code",
   "execution_count": null,
   "id": "1bd2747c",
   "metadata": {},
   "outputs": [],
   "source": []
  },
  {
   "cell_type": "code",
   "execution_count": null,
   "id": "406466df",
   "metadata": {},
   "outputs": [],
   "source": []
  },
  {
   "cell_type": "code",
   "execution_count": null,
   "id": "49ce524e",
   "metadata": {},
   "outputs": [],
   "source": []
  },
  {
   "cell_type": "code",
   "execution_count": null,
   "id": "a3fbca0c",
   "metadata": {},
   "outputs": [],
   "source": []
  },
  {
   "cell_type": "code",
   "execution_count": null,
   "id": "16f5431f",
   "metadata": {},
   "outputs": [],
   "source": []
  },
  {
   "cell_type": "code",
   "execution_count": null,
   "id": "0a9af6c0",
   "metadata": {},
   "outputs": [],
   "source": [
    "#TO - DO \n",
    "\n",
    "search_bar = WebDriverWait(driver, 10).until(EC.element_to_be_clickable((\"xpath\", \"//input[@placeholder='Search']\")))\n",
    "search.clear()\n",
    "\n",
    "keyword = \"\"\n",
    "search_bar.send_keys(keyword)\n",
    "search_bar.send_keys(Keys.ENTER)\n",
    "search_bar.send_keys(Keys.ENTER) #may need double click\n",
    "\n",
    "# print(dir(driver))"
   ]
  },
  {
   "cell_type": "code",
   "execution_count": null,
   "id": "b49d1a6f",
   "metadata": {},
   "outputs": [],
   "source": []
  },
  {
   "cell_type": "code",
   "execution_count": null,
   "id": "a8ac3de1",
   "metadata": {},
   "outputs": [],
   "source": []
  }
 ],
 "metadata": {
  "kernelspec": {
   "display_name": "Python 3 (ipykernel)",
   "language": "python",
   "name": "python3"
  },
  "language_info": {
   "codemirror_mode": {
    "name": "ipython",
    "version": 3
   },
   "file_extension": ".py",
   "mimetype": "text/x-python",
   "name": "python",
   "nbconvert_exporter": "python",
   "pygments_lexer": "ipython3",
   "version": "3.10.1"
  },
  "vscode": {
   "interpreter": {
    "hash": "aee8b7b246df8f9039afb4144a1f6fd8d2ca17a180786b69acc140d282b71a49"
   }
  }
 },
 "nbformat": 4,
 "nbformat_minor": 5
}
